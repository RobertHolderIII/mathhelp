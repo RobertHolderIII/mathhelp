{
 "cells": [
  {
   "cell_type": "code",
   "execution_count": null,
   "metadata": {},
   "outputs": [],
   "source": [
    "### Inspired by https://www.facebook.com/groups/mathhelp/posts/5533361043354070/\n",
    "### What is the probability of finding a string of five identical number when\n",
    "### rolling a die 100 times?\n",
    "### We used this simulation to question the first two answers we found, both of \n",
    "### which were incorrect.  Current thought is that the answer is\n",
    "### 6/6 * 1/6 * 1/6 * 1/6 * 1/6 * 5/6 * 95\n",
    "### as corroborated by the experimental results.\n",
    "### It is the sum of a streak starting at roll 1 and ending at 5, starting at 2 and ending at 6, up to starting\n",
    "### at 95 and ending at 99.  Then add in "
   ]
  },
  {
   "cell_type": "code",
   "execution_count": 47,
   "metadata": {},
   "outputs": [
    {
     "name": "stdout",
     "output_type": "stream",
     "text": [
      "15\n"
     ]
    }
   ],
   "source": [
    "import random\n",
    "def do_rolls(verbose=False):\n",
    "    # look for a string of five in 100 die rolls\n",
    "    streak = 0\n",
    "    face = None\n",
    "    for _ in range(100):\n",
    "        roll = random.randint(1,6)\n",
    "        if roll == face:\n",
    "            streak += 1\n",
    "        else:\n",
    "            face = roll\n",
    "            streak = 1\n",
    "        if verbose: print(f'{roll=}, {streak=}')\n",
    "        if streak == 5:\n",
    "            return True\n",
    "    return False\n",
    "\n",
    "failed_count = 0\n",
    "while not do_rolls():\n",
    "    failed_count+=1\n",
    "print(failed_count)"
   ]
  },
  {
   "cell_type": "code",
   "execution_count": 51,
   "metadata": {},
   "outputs": [
    {
     "name": "stdout",
     "output_type": "stream",
     "text": [
      "0.0605\n",
      "CPU times: user 832 ms, sys: 3.45 ms, total: 835 ms\n",
      "Wall time: 835 ms\n"
     ]
    }
   ],
   "source": [
    "%%time\n",
    "num_attempts = int(1e4)\n",
    "experiment = (do_rolls() for _ in range(num_attempts))\n",
    "true_count = sum(1 for result in experiment if result==True)\n",
    "print(true_count/num_attempts)"
   ]
  },
  {
   "cell_type": "code",
   "execution_count": 55,
   "metadata": {},
   "outputs": [
    {
     "data": {
      "text/plain": [
       "0.061728395061728385"
      ]
     },
     "execution_count": 55,
     "metadata": {},
     "output_type": "execute_result"
    }
   ],
   "source": [
    "6/6 * (1/6)**4 * (5/6) * 96"
   ]
  },
  {
   "cell_type": "code",
   "execution_count": null,
   "metadata": {},
   "outputs": [],
   "source": []
  }
 ],
 "metadata": {
  "kernelspec": {
   "display_name": "Python 3",
   "language": "python",
   "name": "python3"
  },
  "language_info": {
   "codemirror_mode": {
    "name": "ipython",
    "version": 3
   },
   "file_extension": ".py",
   "mimetype": "text/x-python",
   "name": "python",
   "nbconvert_exporter": "python",
   "pygments_lexer": "ipython3",
   "version": "3.8.3"
  }
 },
 "nbformat": 4,
 "nbformat_minor": 4
}
