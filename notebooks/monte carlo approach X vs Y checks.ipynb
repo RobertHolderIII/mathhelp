{
 "cells": [
  {
   "cell_type": "markdown",
   "metadata": {},
   "source": [
    "https://www.facebook.com/groups/mathhelp/permalink/3960534143970109/\n",
    "\n",
    "What are steps needed to solve a problem like this?\n",
    "\n",
    "If X has a 10% chance to make a successful check, and Y has a 20% chance to make a successful check, what are the odds that X will roll 10 successful checks before Y rolls 5 successful checks?"
   ]
  },
  {
   "cell_type": "code",
   "execution_count": 1,
   "metadata": {},
   "outputs": [],
   "source": [
    "prob_x = 0.1\n",
    "prob_y = 0.2\n",
    "target_x = 10\n",
    "target_y = 5"
   ]
  },
  {
   "cell_type": "code",
   "execution_count": 3,
   "metadata": {},
   "outputs": [
    {
     "data": {
      "text/plain": [
       "(False, 2, 5, 16, 16)"
      ]
     },
     "execution_count": 3,
     "metadata": {},
     "output_type": "execute_result"
    }
   ],
   "source": [
    "import random\n",
    "\n",
    "def do_trial():\n",
    "    rolls_x = 0\n",
    "    rolls_y = 0\n",
    "    succ_x = 0\n",
    "    succ_y = 0\n",
    "    while succ_x < target_x and succ_y < target_y:\n",
    "        rolls_x += 1\n",
    "        if random.random() < prob_x:\n",
    "            succ_x += 1\n",
    "\n",
    "        if succ_x < target_x:\n",
    "            rolls_y += 1\n",
    "            if random.random() < prob_y:\n",
    "                succ_y += 1\n",
    "    return (succ_x == target_x,succ_x,succ_y,rolls_x,rolls_y)\n",
    "\n",
    "\n",
    "do_trial()"
   ]
  },
  {
   "cell_type": "code",
   "execution_count": 6,
   "metadata": {},
   "outputs": [
    {
     "data": {
      "text/plain": [
       "(defaultdict(int, {False: 50}), 50)"
      ]
     },
     "execution_count": 6,
     "metadata": {},
     "output_type": "execute_result"
    }
   ],
   "source": [
    "from collections import defaultdict\n",
    "def run_trials(n=100):\n",
    "    res = defaultdict(int)\n",
    "    for _ in range(n):\n",
    "        trial_res = do_trial()[0]\n",
    "        res[trial_res] += 1\n",
    "    return (res,n)\n",
    "run_trials(n=50)"
   ]
  },
  {
   "cell_type": "code",
   "execution_count": 9,
   "metadata": {},
   "outputs": [
    {
     "name": "stdout",
     "output_type": "stream",
     "text": [
      "CPU times: user 7.7 s, sys: 16.4 ms, total: 7.72 s\n",
      "Wall time: 7.73 s\n"
     ]
    },
    {
     "data": {
      "text/plain": [
       "(defaultdict(int, {False: 997814, True: 2186}), 1000000)"
      ]
     },
     "execution_count": 9,
     "metadata": {},
     "output_type": "execute_result"
    }
   ],
   "source": [
    "%%time\n",
    "run_trials(n=int(1e6))"
   ]
  },
  {
   "cell_type": "code",
   "execution_count": 15,
   "metadata": {},
   "outputs": [
    {
     "name": "stdout",
     "output_type": "stream",
     "text": [
      "(defaultdict(<class 'int'>, {False: 99778719, True: 221281}), 100000000)\n",
      "0.00221281\n",
      "451.91408209471217\n",
      "CPU times: user 13min 11s, sys: 3.51 s, total: 13min 15s\n",
      "Wall time: 13min 22s\n"
     ]
    }
   ],
   "source": [
    "%%time\n",
    "res = run_trials(n=int(1e8))\n",
    "print(res)\n",
    "resdict, n = res\n",
    "print(resdict[True]/n)\n",
    "print(n/resdict[True])"
   ]
  },
  {
   "cell_type": "code",
   "execution_count": null,
   "metadata": {},
   "outputs": [],
   "source": []
  }
 ],
 "metadata": {
  "kernelspec": {
   "display_name": "Python 3",
   "language": "python",
   "name": "python3"
  },
  "language_info": {
   "codemirror_mode": {
    "name": "ipython",
    "version": 3
   },
   "file_extension": ".py",
   "mimetype": "text/x-python",
   "name": "python",
   "nbconvert_exporter": "python",
   "pygments_lexer": "ipython3",
   "version": "3.8.3"
  }
 },
 "nbformat": 4,
 "nbformat_minor": 4
}
