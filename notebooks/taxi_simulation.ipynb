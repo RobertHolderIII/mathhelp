{
 "cells": [
  {
   "cell_type": "markdown",
   "metadata": {},
   "source": [
    "What is the probability that two taxis arrive more than five minutes apart?\n",
    "\n",
    "Each taxi has a uniform distribution of arriving between 5:00 and 5:12.\n",
    "\n",
    "https://www.facebook.com/groups/mathhelp/posts/5035786489778197/"
   ]
  },
  {
   "cell_type": "code",
   "execution_count": 9,
   "metadata": {},
   "outputs": [
    {
     "name": "stdout",
     "output_type": "stream",
     "text": [
      "331413/1000000=0.331413\n"
     ]
    }
   ],
   "source": [
    "import random\n",
    "\n",
    "trials = int(1e6)\n",
    "check_passed = 0\n",
    "for _ in range(trials):\n",
    "    taxi_a = random.randint(0,12) #0..12 inclusive\n",
    "    taxi_b = random.randint(0,12)\n",
    "    if abs(taxi_a-taxi_b)>5: check_passed+=1\n",
    "\n",
    "print(f'{check_passed}/{trials}={check_passed/trials}')"
   ]
  },
  {
   "cell_type": "markdown",
   "metadata": {},
   "source": [
    "Per the observation that it is a continuous distribution:"
   ]
  },
  {
   "cell_type": "code",
   "execution_count": 5,
   "metadata": {},
   "outputs": [
    {
     "name": "stdout",
     "output_type": "stream",
     "text": [
      "170219/1000000=0.170219\n"
     ]
    }
   ],
   "source": [
    "import random\n",
    "\n",
    "trials = int(1e6)\n",
    "check_passed = 0\n",
    "for _ in range(trials):\n",
    "    taxi_a = random.uniform(0,12) #0..12 inclusive\n",
    "    taxi_b = random.uniform(0,12)\n",
    "    if abs(taxi_a-taxi_b>5): check_passed+=1\n",
    "\n",
    "print(f'{check_passed}/{trials}={check_passed/trials}')"
   ]
  },
  {
   "cell_type": "markdown",
   "metadata": {},
   "source": [
    "Replicating with numpy and vectorization:"
   ]
  },
  {
   "cell_type": "code",
   "execution_count": 8,
   "metadata": {},
   "outputs": [
    {
     "data": {
      "text/plain": [
       "0.339795"
      ]
     },
     "execution_count": 8,
     "metadata": {},
     "output_type": "execute_result"
    }
   ],
   "source": [
    "import numpy as np\n",
    "def simulate(num):\n",
    "    a = np.random.uniform(0,12, size=num)\n",
    "    b = np.random.uniform(0,12, size=num)\n",
    "    c = (abs(b-a) > 5)\n",
    "    return c.sum()/num\n",
    "simulate(int(1e6))"
   ]
  },
  {
   "cell_type": "code",
   "execution_count": null,
   "metadata": {},
   "outputs": [],
   "source": []
  }
 ],
 "metadata": {
  "kernelspec": {
   "display_name": "Python 3",
   "language": "python",
   "name": "python3"
  },
  "language_info": {
   "codemirror_mode": {
    "name": "ipython",
    "version": 3
   },
   "file_extension": ".py",
   "mimetype": "text/x-python",
   "name": "python",
   "nbconvert_exporter": "python",
   "pygments_lexer": "ipython3",
   "version": "3.8.3"
  }
 },
 "nbformat": 4,
 "nbformat_minor": 4
}
