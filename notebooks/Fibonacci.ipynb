{
 "cells": [
  {
   "cell_type": "code",
   "execution_count": 3,
   "metadata": {},
   "outputs": [
    {
     "name": "stdout",
     "output_type": "stream",
     "text": [
      "[1.618033988749895, 1, 2.618033988749895, 3.618033988749895, 6.23606797749979, 9.854101966249685, 16.090169943749473, 25.94427190999916, 42.03444185374863, 67.97871376374779, 110.01315561749642, 177.99186938124421, 288.0050249987406, 465.99689437998484, 754.0019193787255, 1219.9988137587102, 1974.0007331374356, 3193.999546896146, 5168.0002800335815, 8361.999826929728]\n",
      "[0.6180339887498948, 2.618033988749895, 1.381966011250105, 1.723606797749979, 1.580178728295464, 1.6328398060887062, 1.6124299495094951, 1.6201819808074156, 1.617214616534404, 1.618347119656228, 1.6179144065288178, 1.6180796684698957, 1.6180165411420253, 1.618040653214943, 1.6180314431612481, 1.6180349610797662, 1.6180336173531555, 1.6180341306108585, 1.6180339345638333]\n"
     ]
    }
   ],
   "source": [
    "import math\n",
    "phi = ( 1 + math.sqrt(5) ) / 2\n",
    "seq = [phi, 1]\n",
    "ratios = []\n",
    "n = 20\n",
    "for i in range(2,n):\n",
    "    seq.append(seq[i-1] + seq[i-2])\n",
    "\n",
    "print(seq)\n",
    "    \n",
    "for i in range(0,len(seq)-1):\n",
    "    ratios.append(seq[i+1]/seq[i])\n",
    "\n",
    "print(ratios)"
   ]
  },
  {
   "cell_type": "code",
   "execution_count": null,
   "metadata": {},
   "outputs": [],
   "source": []
  }
 ],
 "metadata": {
  "kernelspec": {
   "display_name": "Python 3",
   "language": "python",
   "name": "python3"
  },
  "language_info": {
   "codemirror_mode": {
    "name": "ipython",
    "version": 3
   },
   "file_extension": ".py",
   "mimetype": "text/x-python",
   "name": "python",
   "nbconvert_exporter": "python",
   "pygments_lexer": "ipython3",
   "version": "3.8.3"
  }
 },
 "nbformat": 4,
 "nbformat_minor": 4
}
