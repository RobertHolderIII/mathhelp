{
 "cells": [
  {
   "cell_type": "code",
   "execution_count": 12,
   "metadata": {},
   "outputs": [
    {
     "name": "stdout",
     "output_type": "stream",
     "text": [
      "[17, 100000000.0, 100000017.0, 200000017.0, 300000034.0, 500000051.0, 800000085.0, 1300000136.0, 2100000221.0, 3400000357.0, 5500000578.0, 8900000935.0, 14400001513.0, 23300002448.0, 37700003961.0, 61000006409.0, 98700010370.0, 159700016779.0, 258400027149.0, 418100043928.0]\n",
      "[5882352.94117647, 1.00000017, 1.999999830000029, 1.5000000424999964, 1.6666666477777798, 1.6000000067999993, 1.6249999973437503, 1.6153846163905325, 1.6190476186621316, 1.6176470589705882, 1.6181818181256198, 1.6179775281113495, 1.6180555555473572, 1.6180257510760927, 1.6180371352773184, 1.6180327868857027, 1.6180344478215074, 1.618033813400192, 1.6180340557275288]\n"
     ]
    }
   ],
   "source": [
    "seq = [17,1e8]\n",
    "ratios = []\n",
    "n = 20\n",
    "for i in range(2,n):\n",
    "    seq.append(seq[i-1] + seq[i-2])\n",
    "\n",
    "print(seq)\n",
    "    \n",
    "for i in range(0,len(seq)-1):\n",
    "    ratios.append(seq[i+1]/seq[i])\n",
    "\n",
    "print(ratios)"
   ]
  },
  {
   "cell_type": "code",
   "execution_count": null,
   "metadata": {},
   "outputs": [],
   "source": []
  }
 ],
 "metadata": {
  "kernelspec": {
   "display_name": "Python 3",
   "language": "python",
   "name": "python3"
  },
  "language_info": {
   "codemirror_mode": {
    "name": "ipython",
    "version": 3
   },
   "file_extension": ".py",
   "mimetype": "text/x-python",
   "name": "python",
   "nbconvert_exporter": "python",
   "pygments_lexer": "ipython3",
   "version": "3.8.3"
  }
 },
 "nbformat": 4,
 "nbformat_minor": 4
}
