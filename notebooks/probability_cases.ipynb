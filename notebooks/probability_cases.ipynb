{
 "cells": [
  {
   "cell_type": "markdown",
   "metadata": {},
   "source": [
    "In response to https://www.facebook.com/groups/mathhelp/posts/7506004132756408/"
   ]
  },
  {
   "cell_type": "code",
   "execution_count": 36,
   "metadata": {},
   "outputs": [
    {
     "name": "stdout",
     "output_type": "stream",
     "text": [
      "mean(records_processed)=399.78, stdev(records_processed)=115.0707422743625\n",
      "records_processed.count(0)/trials=0.0008\n",
      "records_processed.count(600)/trials=0.0856\n"
     ]
    },
    {
     "data": {
      "image/png": "[encoded data removed]",
      "text/plain": [
       "<Figure size 432x288 with 1 Axes>"
      ]
     },
     "metadata": {
      "needs_background": "light"
     },
     "output_type": "display_data"
    }
   ],
   "source": [
    "from random import random\n",
    "import matplotlib.pyplot as plt\n",
    "from statistics import mean, variance, stdev\n",
    "\n",
    "trials = 10000\n",
    "p_success = 2/3\n",
    "\n",
    "#case 1: run 6 jobs of 100 records\n",
    "records_processed = []\n",
    "jobs = 6\n",
    "records_per_job = 100\n",
    "for _ in range(trials):\n",
    "    recs = 0\n",
    "    for _ in range(jobs):\n",
    "        recs += records_per_job if random() < p_success else 0\n",
    "    records_processed.append(recs)\n",
    "\n",
    "print(f'{mean(records_processed)=}, {stdev(records_processed)=}')\n",
    "print(f'{records_processed.count(0)/trials=}')\n",
    "print(f'{records_processed.count(600)/trials=}')\n",
    "\n",
    "plt.hist(records_processed, bins=100)\n",
    "plt.show()"
   ]
  },
  {
   "cell_type": "code",
   "execution_count": 37,
   "metadata": {},
   "outputs": [
    {
     "name": "stdout",
     "output_type": "stream",
     "text": [
      "mean(records_processed)=400.94, stdev(records_processed)=164.99041967295673\n",
      "records_processed.count(0)/trials=0.0394\n",
      "records_processed.count(600)/trials=0.3032\n"
     ]
    },
    {
     "data": {
      "image/png": "[encoded data removed]",
      "text/plain": [
       "<Figure size 432x288 with 1 Axes>"
      ]
     },
     "metadata": {
      "needs_background": "light"
     },
     "output_type": "display_data"
    }
   ],
   "source": [
    "#case 2: run 3 jobs of 200 records\n",
    "records_processed = []\n",
    "jobs = 3\n",
    "records_per_job = 200\n",
    "for _ in range(trials):\n",
    "    recs = 0\n",
    "    for _ in range(jobs):\n",
    "        recs += records_per_job if random() < p_success else 0\n",
    "    records_processed.append(recs)\n",
    "\n",
    "print(f'{mean(records_processed)=}, {stdev(records_processed)=}')\n",
    "print(f'{records_processed.count(0)/trials=}')\n",
    "print(f'{records_processed.count(600)/trials=}')\n",
    "\n",
    "plt.hist(records_processed, bins=100)\n",
    "plt.show()"
   ]
  },
  {
   "cell_type": "code",
   "execution_count": null,
   "metadata": {},
   "outputs": [],
   "source": []
  },
  {
   "cell_type": "code",
   "execution_count": null,
   "metadata": {},
   "outputs": [],
   "source": []
  }
 ],
 "metadata": {
  "kernelspec": {
   "display_name": "Python 3",
   "language": "python",
   "name": "python3"
  },
  "language_info": {
   "codemirror_mode": {
    "name": "ipython",
    "version": 3
   },
   "file_extension": ".py",
   "mimetype": "text/x-python",
   "name": "python",
   "nbconvert_exporter": "python",
   "pygments_lexer": "ipython3",
   "version": "3.8.3"
  }
 },
 "nbformat": 4,
 "nbformat_minor": 4
}
