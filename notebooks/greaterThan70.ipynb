{
 "cells": [
  {
   "cell_type": "markdown",
   "metadata": {},
   "source": [
    "solution to https://www.facebook.com/groups/mathhelp/permalink/3687975801225946/"
   ]
  },
  {
   "cell_type": "code",
   "execution_count": 30,
   "metadata": {},
   "outputs": [],
   "source": [
    "def doit(n,gate=70,debug=False):\n",
    "    vals = [n]\n",
    "    g70 = False\n",
    "    while not g70 and len(vals)<100:\n",
    "        vals.append(vals[-1] + 10)\n",
    "        g100 = False\n",
    "        while not g100:\n",
    "            vals.append(vals[-1] * 2)\n",
    "            g100 = vals[-1]>100\n",
    "        if debug: print(f'g100={g100}; {vals}')\n",
    "        vals.append(200-vals[-1])\n",
    "        g70 = vals[-1]>gate\n",
    "        if debug: print(f'g70={g70}; {vals}')\n",
    "    return vals\n",
    "    \n",
    "    "
   ]
  },
  {
   "cell_type": "code",
   "execution_count": 31,
   "metadata": {},
   "outputs": [
    {
     "name": "stdout",
     "output_type": "stream",
     "text": [
      "g100=True; [1, 11, 22, 44, 88, 176]\n",
      "g70=False; [1, 11, 22, 44, 88, 176, 24]\n",
      "g100=True; [1, 11, 22, 44, 88, 176, 24, 34, 68, 136]\n",
      "g70=False; [1, 11, 22, 44, 88, 176, 24, 34, 68, 136, 64]\n",
      "g100=True; [1, 11, 22, 44, 88, 176, 24, 34, 68, 136, 64, 74, 148]\n",
      "g70=False; [1, 11, 22, 44, 88, 176, 24, 34, 68, 136, 64, 74, 148, 52]\n",
      "g100=True; [1, 11, 22, 44, 88, 176, 24, 34, 68, 136, 64, 74, 148, 52, 62, 124]\n",
      "g70=True; [1, 11, 22, 44, 88, 176, 24, 34, 68, 136, 64, 74, 148, 52, 62, 124, 76]\n"
     ]
    },
    {
     "data": {
      "text/plain": [
       "[1, 11, 22, 44, 88, 176, 24, 34, 68, 136, 64, 74, 148, 52, 62, 124, 76]"
      ]
     },
     "execution_count": 31,
     "metadata": {},
     "output_type": "execute_result"
    }
   ],
   "source": [
    "doit(1,debug=True)"
   ]
  },
  {
   "cell_type": "code",
   "execution_count": 32,
   "metadata": {},
   "outputs": [
    {
     "name": "stdout",
     "output_type": "stream",
     "text": [
      "\n",
      "n=1: 17 steps - [1, 11, 22, 44, 88, 176, 24, 34, 68, 136, 64, 74, 148, 52, 62, 124, 76]\n",
      "n=2: 21 steps - [2, 12, 24, 48, 96, 192, 8, 18, 36, 72, 144, 56, 66, 132, 68, 78, 156, 44, 54, 108, 92]\n",
      "n=3: 6 steps - [3, 13, 26, 52, 104, 96]\n",
      "n=4: 6 steps - [4, 14, 28, 56, 112, 88]\n",
      "n=5: 6 steps - [5, 15, 30, 60, 120, 80]\n",
      "n=6: 6 steps - [6, 16, 32, 64, 128, 72]\n",
      "n=7: 12 steps - [7, 17, 34, 68, 136, 64, 74, 148, 52, 62, 124, 76]\n",
      "n=8: 15 steps - [8, 18, 36, 72, 144, 56, 66, 132, 68, 78, 156, 44, 54, 108, 92]\n",
      "n=9: 9 steps - [9, 19, 38, 76, 152, 48, 58, 116, 84]\n"
     ]
    }
   ],
   "source": [
    "print()\n",
    "for n in range(1,10):\n",
    "    res = doit(n)\n",
    "    print(f'n={n}: {len(res)} steps - {res}')"
   ]
  },
  {
   "cell_type": "code",
   "execution_count": 36,
   "metadata": {},
   "outputs": [
    {
     "name": "stdout",
     "output_type": "stream",
     "text": [
      "n=1:11,11,11,11,17,17,17,17,17,17,17,17,17,17,17,17,27,27,27,27,27,\n",
      "n=2:15,15,15,15,15,15,15,15,21,21,21,21,21,21,21,21,21,21,21,21,21,\n",
      "n=3:6,6,6,6,6,6,6,6,6,6,6,6,6,6,6,6,6,6,6,6,6,\n",
      "n=4:6,6,6,6,6,6,6,6,6,6,6,6,6,6,6,6,6,6,6,6,6,\n",
      "n=5:6,6,6,6,6,6,6,6,6,6,6,6,6,6,6,6,6,6,6,6,100,\n",
      "n=6:6,6,6,6,6,6,6,6,6,6,6,6,17,17,17,17,17,17,17,17,17,\n",
      "n=7:6,6,6,6,12,12,12,12,12,12,12,12,12,12,12,12,22,22,22,22,22,\n",
      "n=8:9,9,9,9,9,9,9,9,15,15,15,15,15,15,15,15,15,15,15,15,15,\n",
      "n=9:9,9,9,9,9,9,9,9,9,9,9,9,9,9,9,9,9,9,9,9,9,\n"
     ]
    }
   ],
   "source": [
    "for n in range(1,10):\n",
    "    print(f'n={n}:',end='')\n",
    "    for gate in range(60,81):\n",
    "        res = doit(n,gate=gate)\n",
    "        print(f'{len(res)},', end='')\n",
    "    print()"
   ]
  },
  {
   "cell_type": "code",
   "execution_count": 37,
   "metadata": {},
   "outputs": [
    {
     "data": {
      "text/plain": [
       "[5,\n",
       " 15,\n",
       " 30,\n",
       " 60,\n",
       " 120,\n",
       " 80,\n",
       " 90,\n",
       " 180,\n",
       " 20,\n",
       " 30,\n",
       " 60,\n",
       " 120,\n",
       " 80,\n",
       " 90,\n",
       " 180,\n",
       " 20,\n",
       " 30,\n",
       " 60,\n",
       " 120,\n",
       " 80,\n",
       " 90,\n",
       " 180,\n",
       " 20,\n",
       " 30,\n",
       " 60,\n",
       " 120,\n",
       " 80,\n",
       " 90,\n",
       " 180,\n",
       " 20,\n",
       " 30,\n",
       " 60,\n",
       " 120,\n",
       " 80,\n",
       " 90,\n",
       " 180,\n",
       " 20,\n",
       " 30,\n",
       " 60,\n",
       " 120,\n",
       " 80,\n",
       " 90,\n",
       " 180,\n",
       " 20,\n",
       " 30,\n",
       " 60,\n",
       " 120,\n",
       " 80,\n",
       " 90,\n",
       " 180,\n",
       " 20,\n",
       " 30,\n",
       " 60,\n",
       " 120,\n",
       " 80,\n",
       " 90,\n",
       " 180,\n",
       " 20,\n",
       " 30,\n",
       " 60,\n",
       " 120,\n",
       " 80,\n",
       " 90,\n",
       " 180,\n",
       " 20,\n",
       " 30,\n",
       " 60,\n",
       " 120,\n",
       " 80,\n",
       " 90,\n",
       " 180,\n",
       " 20,\n",
       " 30,\n",
       " 60,\n",
       " 120,\n",
       " 80,\n",
       " 90,\n",
       " 180,\n",
       " 20,\n",
       " 30,\n",
       " 60,\n",
       " 120,\n",
       " 80,\n",
       " 90,\n",
       " 180,\n",
       " 20,\n",
       " 30,\n",
       " 60,\n",
       " 120,\n",
       " 80,\n",
       " 90,\n",
       " 180,\n",
       " 20,\n",
       " 30,\n",
       " 60,\n",
       " 120,\n",
       " 80,\n",
       " 90,\n",
       " 180,\n",
       " 20]"
      ]
     },
     "execution_count": 37,
     "metadata": {},
     "output_type": "execute_result"
    }
   ],
   "source": [
    "doit(5,gate=80)"
   ]
  },
  {
   "cell_type": "code",
   "execution_count": null,
   "metadata": {},
   "outputs": [],
   "source": []
  }
 ],
 "metadata": {
  "kernelspec": {
   "display_name": "Python 3",
   "language": "python",
   "name": "python3"
  },
  "language_info": {
   "codemirror_mode": {
    "name": "ipython",
    "version": 3
   },
   "file_extension": ".py",
   "mimetype": "text/x-python",
   "name": "python",
   "nbconvert_exporter": "python",
   "pygments_lexer": "ipython3",
   "version": "3.8.3"
  }
 },
 "nbformat": 4,
 "nbformat_minor": 4
}
