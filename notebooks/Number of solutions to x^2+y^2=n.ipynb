{
 "cells": [
  {
   "cell_type": "code",
   "execution_count": 1,
   "metadata": {},
   "outputs": [
    {
     "data": {
      "text/plain": [
       "[0, 1, 4, 9, 16, 25, 36, 49, 64, 81, 100]"
      ]
     },
     "execution_count": 1,
     "metadata": {},
     "output_type": "execute_result"
    }
   ],
   "source": [
    "squares = [x**2 for x in range(11)]\n",
    "squares"
   ]
  },
  {
   "cell_type": "code",
   "execution_count": 20,
   "metadata": {},
   "outputs": [
    {
     "name": "stdout",
     "output_type": "stream",
     "text": [
      "43\n"
     ]
    },
    {
     "data": {
      "text/plain": [
       "defaultdict(set,\n",
       "            {1: {(0, 1)},\n",
       "             4: {(0, 4)},\n",
       "             9: {(0, 9)},\n",
       "             16: {(0, 16)},\n",
       "             25: {(0, 25), (9, 16)},\n",
       "             36: {(0, 36)},\n",
       "             49: {(0, 49)},\n",
       "             64: {(0, 64)},\n",
       "             81: {(0, 81)},\n",
       "             100: {(0, 100), (36, 64)},\n",
       "             2: {(1, 1)},\n",
       "             5: {(1, 4)},\n",
       "             10: {(1, 9)},\n",
       "             17: {(1, 16)},\n",
       "             26: {(1, 25)},\n",
       "             37: {(1, 36)},\n",
       "             50: {(1, 49), (25, 25)},\n",
       "             65: {(1, 64), (16, 49)},\n",
       "             82: {(1, 81)},\n",
       "             8: {(4, 4)},\n",
       "             13: {(4, 9)},\n",
       "             20: {(4, 16)},\n",
       "             29: {(4, 25)},\n",
       "             40: {(4, 36)},\n",
       "             53: {(4, 49)},\n",
       "             68: {(4, 64)},\n",
       "             85: {(4, 81), (36, 49)},\n",
       "             18: {(9, 9)},\n",
       "             34: {(9, 25)},\n",
       "             45: {(9, 36)},\n",
       "             58: {(9, 49)},\n",
       "             73: {(9, 64)},\n",
       "             90: {(9, 81)},\n",
       "             32: {(16, 16)},\n",
       "             41: {(16, 25)},\n",
       "             52: {(16, 36)},\n",
       "             80: {(16, 64)},\n",
       "             97: {(16, 81)},\n",
       "             61: {(25, 36)},\n",
       "             74: {(25, 49)},\n",
       "             89: {(25, 64)},\n",
       "             72: {(36, 36)},\n",
       "             98: {(49, 49)}})"
      ]
     },
     "execution_count": 20,
     "metadata": {},
     "output_type": "execute_result"
    }
   ],
   "source": [
    "from collections import defaultdict\n",
    "sums = defaultdict(set)\n",
    "for i in squares:\n",
    "    for j in squares:\n",
    "        sum = i+j\n",
    "        if sum >= 1 and sum <= 100:\n",
    "            pair = (i,j)\n",
    "            sorted_pair = tuple(sorted(pair))\n",
    "            sums[sum].add(sorted_pair)\n",
    "print(len(sums))\n",
    "sums"
   ]
  },
  {
   "cell_type": "code",
   "execution_count": 21,
   "metadata": {},
   "outputs": [
    {
     "data": {
      "text/plain": [
       "43"
      ]
     },
     "execution_count": 21,
     "metadata": {},
     "output_type": "execute_result"
    }
   ],
   "source": [
    "len(sums)"
   ]
  },
  {
   "cell_type": "code",
   "execution_count": 22,
   "metadata": {},
   "outputs": [
    {
     "name": "stdout",
     "output_type": "stream",
     "text": [
      "defaultdict(<class 'set'>, {1: {(0, 1)}, 4: {(0, 4)}, 9: {(0, 9)}, 16: {(0, 16)}, 25: {(9, 16), (0, 25)}, 36: {(0, 36)}, 49: {(0, 49)}, 64: {(0, 64)}, 81: {(0, 81)}, 100: {(36, 64), (0, 100)}, 2: {(1, 1)}, 5: {(1, 4)}, 10: {(1, 9)}, 17: {(1, 16)}, 26: {(1, 25)}, 37: {(1, 36)}, 50: {(25, 25), (1, 49)}, 65: {(1, 64), (16, 49)}, 82: {(1, 81)}, 8: {(4, 4)}, 13: {(4, 9)}, 20: {(4, 16)}, 29: {(4, 25)}, 40: {(4, 36)}, 53: {(4, 49)}, 68: {(4, 64)}, 85: {(36, 49), (4, 81)}, 18: {(9, 9)}, 34: {(9, 25)}, 45: {(9, 36)}, 58: {(9, 49)}, 73: {(9, 64)}, 90: {(9, 81)}, 32: {(16, 16)}, 41: {(16, 25)}, 52: {(16, 36)}, 80: {(16, 64)}, 97: {(16, 81)}, 61: {(25, 36)}, 74: {(25, 49)}, 89: {(25, 64)}, 72: {(36, 36)}, 98: {(49, 49)}})\n"
     ]
    }
   ],
   "source": [
    "print(sums)"
   ]
  },
  {
   "cell_type": "code",
   "execution_count": 23,
   "metadata": {},
   "outputs": [
    {
     "name": "stdout",
     "output_type": "stream",
     "text": [
      "1 {(0, 1)}\n",
      "2 {(1, 1)}\n",
      "4 {(0, 4)}\n",
      "5 {(1, 4)}\n",
      "8 {(4, 4)}\n",
      "9 {(0, 9)}\n",
      "10 {(1, 9)}\n",
      "13 {(4, 9)}\n",
      "16 {(0, 16)}\n",
      "17 {(1, 16)}\n",
      "18 {(9, 9)}\n",
      "20 {(4, 16)}\n",
      "25 {(9, 16), (0, 25)}\n",
      "26 {(1, 25)}\n",
      "29 {(4, 25)}\n",
      "32 {(16, 16)}\n",
      "34 {(9, 25)}\n",
      "36 {(0, 36)}\n",
      "37 {(1, 36)}\n",
      "40 {(4, 36)}\n",
      "41 {(16, 25)}\n",
      "45 {(9, 36)}\n",
      "49 {(0, 49)}\n",
      "50 {(25, 25), (1, 49)}\n",
      "52 {(16, 36)}\n",
      "53 {(4, 49)}\n",
      "58 {(9, 49)}\n",
      "61 {(25, 36)}\n",
      "64 {(0, 64)}\n",
      "65 {(1, 64), (16, 49)}\n",
      "68 {(4, 64)}\n",
      "72 {(36, 36)}\n",
      "73 {(9, 64)}\n",
      "74 {(25, 49)}\n",
      "80 {(16, 64)}\n",
      "81 {(0, 81)}\n",
      "82 {(1, 81)}\n",
      "85 {(36, 49), (4, 81)}\n",
      "89 {(25, 64)}\n",
      "90 {(9, 81)}\n",
      "97 {(16, 81)}\n",
      "98 {(49, 49)}\n",
      "100 {(36, 64), (0, 100)}\n"
     ]
    }
   ],
   "source": [
    "for key in sorted(sums.keys()):\n",
    "    print(key, sums[key])"
   ]
  },
  {
   "cell_type": "code",
   "execution_count": null,
   "metadata": {},
   "outputs": [],
   "source": []
  }
 ],
 "metadata": {
  "kernelspec": {
   "display_name": "Python 3",
   "language": "python",
   "name": "python3"
  },
  "language_info": {
   "codemirror_mode": {
    "name": "ipython",
    "version": 3
   },
   "file_extension": ".py",
   "mimetype": "text/x-python",
   "name": "python",
   "nbconvert_exporter": "python",
   "pygments_lexer": "ipython3",
   "version": "3.8.3"
  }
 },
 "nbformat": 4,
 "nbformat_minor": 4
}
