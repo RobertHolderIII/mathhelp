{
 "cells": [
  {
   "cell_type": "markdown",
   "metadata": {},
   "source": [
    "### Find possible values of a cuboid with surface area of 100\n",
    "https://www.facebook.com/groups/mathhelp/posts/6578434708846693/"
   ]
  },
  {
   "cell_type": "code",
   "execution_count": 24,
   "metadata": {},
   "outputs": [
    {
     "name": "stdout",
     "output_type": "stream",
     "text": [
      "num_checks=64\n",
      "{(2, 4, 7), (1, 2, 16)}\n"
     ]
    }
   ],
   "source": [
    "num_checks = 0\n",
    "triples = set()\n",
    "for x in range(1,7):\n",
    "    y_max = int(50/x)\n",
    "    for y in range(x,y_max):\n",
    "        num_checks += 1\n",
    "        z = (50-x*y)/(x+y)\n",
    "        if z < 1:\n",
    "            break\n",
    "        if int(z) == z:\n",
    "            triples.add(\n",
    "                # use a tuple because lists are mutable and cannot be hashed into set\n",
    "                tuple(\n",
    "                    sorted([x,y,int(z)])\n",
    "                )\n",
    "            )\n",
    "print(f'{num_checks=}')\n",
    "print(triples)\n",
    "        "
   ]
  },
  {
   "cell_type": "code",
   "execution_count": null,
   "metadata": {},
   "outputs": [],
   "source": []
  }
 ],
 "metadata": {
  "kernelspec": {
   "display_name": "Python 3",
   "language": "python",
   "name": "python3"
  },
  "language_info": {
   "codemirror_mode": {
    "name": "ipython",
    "version": 3
   },
   "file_extension": ".py",
   "mimetype": "text/x-python",
   "name": "python",
   "nbconvert_exporter": "python",
   "pygments_lexer": "ipython3",
   "version": "3.8.3"
  }
 },
 "nbformat": 4,
 "nbformat_minor": 4
}
